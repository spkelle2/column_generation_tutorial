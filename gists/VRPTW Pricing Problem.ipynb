{
 "cells": [
  {
   "cell_type": "markdown",
   "id": "3fc81962",
   "metadata": {},
   "source": [
    "By the definition of $b_{ijk}$, we have that\n",
    "\n",
    "$$ b_{ijk} = x_{ijk} \\qquad \\forall i, j \\in \\{0, ..., n\\}, \\; k \\in \\Omega $$\n",
    "\n",
    "Then by the definition of $a_{jk}$,\n",
    "\n",
    "$$ a_{jk} = \\sum_{i=0}^n x_{ijk} \\qquad \\forall j \\in \\{0, ..., n\\}, \\; k \\in \\Omega $$\n",
    "\n",
    "Therefore, our objective expression for reduced costs can be rewitten as follows:\n",
    "\n",
    "$$c_k - A_k^T y = {\\sum_{i = 0}^{n}{\\sum_{j = 0}^{n}{c_{ij}x_{ijk}}}} - {\\sum_{j = 1}^{n} \\Bigg( y_j \\sum_{i = 0}^{n} x_{ijk} \\Bigg)}$$"
   ]
  },
  {
   "cell_type": "markdown",
   "id": "6fa2e17a",
   "metadata": {},
   "source": [
    "The Pricing Problem for the SCP differs from the VRPTW in the following ways:\n",
    "* The index $k$ is removed from arc variables, $x$, since we now solve for a single route.\n",
    "* Constraint 2 is removed since it is accounted for in the SCP.\n",
    "* The objective is to minimize the **reduced** cost of the route.\n",
    "\n",
    "Otherwise, the problems are the same. Thus, the formulation is as follows:\n",
    "\n",
    "$$Min {\\sum_{i = 0}^{n}{\\sum_{j = 0}^{n}{c_{ij}x_{ij}}}} - {\\sum_{j = 1}^{n} \\Bigg( y_j \\sum_{i = 0}^{n} x_{ij} \\Bigg) }$$\n",
    "\n",
    "Subject to:"
   ]
  },
  {
   "cell_type": "markdown",
   "id": "f6a4f3bf",
   "metadata": {},
   "source": [
    "### 9. Route leaves node that it enters"
   ]
  },
  {
   "cell_type": "markdown",
   "id": "6ba067d0",
   "metadata": {},
   "source": [
    "$$\\sum_{i = 0}^{n}{x_{ij}} = \\sum_{i = 0}^{n}{x_{ji}} \\qquad \\forall j \\in \\{0,...,n\\}$$"
   ]
  },
  {
   "cell_type": "markdown",
   "id": "7b72c31d",
   "metadata": {},
   "source": [
    "### 10. Route leaves the depot at most once"
   ]
  },
  {
   "cell_type": "markdown",
   "id": "ddd7faa4",
   "metadata": {},
   "source": [
    "$$\\sum_{j = 1}^{n}{x_{0j}} \\leq 1$$"
   ]
  },
  {
   "cell_type": "markdown",
   "id": "85cd904a",
   "metadata": {},
   "source": [
    "### 11. Capacity constraint"
   ]
  },
  {
   "cell_type": "markdown",
   "id": "a801d0cf",
   "metadata": {},
   "source": [
    "$$\\sum_{i = 0}^{n}{\\sum_{j = 1}^{n}{q_{j} x_{ij}}} \\leq Q$$"
   ]
  },
  {
   "cell_type": "markdown",
   "id": "b4132d33",
   "metadata": {},
   "source": [
    "### 12. Travel constraint"
   ]
  },
  {
   "cell_type": "markdown",
   "id": "8cec02d3",
   "metadata": {},
   "source": [
    "$$s_i + t_{ij} - M * (1 - x_{ij}) \\leq s_j \\qquad \\forall i \\in \\{0,...,n\\}, \\enspace j \\in \\{1,...,n\\}$$\n",
    "\n",
    "$$ M = max \\{b_i + t_{ij} - a_i\\} \\qquad i,j \\in \\{0,...,n\\} $$"
   ]
  },
  {
   "cell_type": "markdown",
   "id": "776eadd0",
   "metadata": {},
   "source": [
    "### 13. Time window constraint"
   ]
  },
  {
   "cell_type": "markdown",
   "id": "32471b6e",
   "metadata": {},
   "source": [
    "$$\\qquad \\qquad \\qquad \\qquad a_i \\leq s_i \\leq b_i \\qquad \\forall i \\in \\{0,...,n\\} \\qquad \\qquad \\qquad \\qquad \\qquad $$"
   ]
  }
 ],
 "metadata": {
  "kernelspec": {
   "display_name": "Python 3 (ipykernel)",
   "language": "python",
   "name": "python3"
  },
  "language_info": {
   "codemirror_mode": {
    "name": "ipython",
    "version": 3
   },
   "file_extension": ".py",
   "mimetype": "text/x-python",
   "name": "python",
   "nbconvert_exporter": "python",
   "pygments_lexer": "ipython3",
   "version": "3.10.5"
  }
 },
 "nbformat": 4,
 "nbformat_minor": 5
}
