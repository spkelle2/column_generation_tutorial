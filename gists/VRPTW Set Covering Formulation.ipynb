{
 "cells": [
  {
   "cell_type": "markdown",
   "id": "1487960a",
   "metadata": {},
   "source": [
    "Let $\\Omega$ be the set of feasible vehicle routes. Let $c_k$ be the cost of route $r_k \\in \\Omega$. Let $a_{jk} = 1$ if route $r_k$ visits customer $j$ and 0 otherwise. Let $b_{ijk} = 1$ if route $r_k$ travels directly from customer $i$ to customer $j$ and 0 otherwise. Note the following relations:\n",
    "\n",
    "$$ c_k = \\sum_{i=0}^n \\sum_{j=0}^n b_{ijk} \\qquad \\qquad a_{jk} = \\sum_{i=0}^n b_{ijk}$$\n",
    "\n",
    "Let $z_k = 1$ if route $r_k$ is selected and 0 otherwise. The Set Covering VRPTW model has the following objective\n",
    "\n",
    "$$Min \\sum_{k \\in \\Omega}c_k z_k$$\n",
    "\n",
    "and the following constraint"
   ]
  },
  {
   "cell_type": "markdown",
   "id": "fdc01734",
   "metadata": {},
   "source": [
    "### 7. Set covering"
   ]
  },
  {
   "cell_type": "markdown",
   "id": "b41f2690",
   "metadata": {},
   "source": [
    "$$ \\sum_{r_k \\in \\Omega} a_{jk} z_k \\geq 1 \\qquad \\forall j \\in \\{1,...,n\\} $$\n",
    "\n",
    "Ensure that all customers are visited."
   ]
  }
 ],
 "metadata": {
  "kernelspec": {
   "display_name": "Python 3 (ipykernel)",
   "language": "python",
   "name": "python3"
  },
  "language_info": {
   "codemirror_mode": {
    "name": "ipython",
    "version": 3
   },
   "file_extension": ".py",
   "mimetype": "text/x-python",
   "name": "python",
   "nbconvert_exporter": "python",
   "pygments_lexer": "ipython3",
   "version": "3.10.5"
  }
 },
 "nbformat": 4,
 "nbformat_minor": 5
}
