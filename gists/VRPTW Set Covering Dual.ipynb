{
 "cells": [
  {
   "cell_type": "markdown",
   "id": "af4afbaa",
   "metadata": {},
   "source": [
    "Let $y$ and $s$ respectively be the row and column reduced costs for the LP relaxation of the Set Covering VRPTW formulation. Let $A$ represent the matrix of $a_{jk}$ (i.e. the stops of route $k$ are represented by the column $A_k = [a_{1k}, ..., a_{nk}]^T$) and $c$ be the vector of route costs $c_k$. Then the dual of the Set Covering VRPTW LP relaxation is\n",
    "\n",
    "$$Max \\; 1^T y$$\n",
    "\n",
    "subject to\n",
    "\n",
    "$$A^T y + s = c$$\n",
    "\n",
    "$$y, s \\geq 0$$"
   ]
  },
  {
   "cell_type": "markdown",
   "id": "fa909ca1",
   "metadata": {},
   "source": [
    "Let $B$ and $N$ represent the indices of variables in and out, respectively, of the basis of a solution to the Set Covering VRPTW LP relaxation. Then LP theory tells us that\n",
    "\n",
    "$$ s_k = c_k - A_k^T y \\qquad \\forall k \\in N $$\n",
    "\n",
    "and this $s_k$ is exactly the reduced cost of $z_k$ for $k \\in N$. If this $s_k < 0$, adding it to the subset of routes will reduce the objective when resolved."
   ]
  }
 ],
 "metadata": {
  "kernelspec": {
   "display_name": "Python 3 (ipykernel)",
   "language": "python",
   "name": "python3"
  },
  "language_info": {
   "codemirror_mode": {
    "name": "ipython",
    "version": 3
   },
   "file_extension": ".py",
   "mimetype": "text/x-python",
   "name": "python",
   "nbconvert_exporter": "python",
   "pygments_lexer": "ipython3",
   "version": "3.10.5"
  }
 },
 "nbformat": 4,
 "nbformat_minor": 5
}
