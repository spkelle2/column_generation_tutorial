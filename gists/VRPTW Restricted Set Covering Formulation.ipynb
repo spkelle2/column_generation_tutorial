{
 "cells": [
  {
   "cell_type": "markdown",
   "id": "1487960a",
   "metadata": {},
   "source": [
    "Let $\\Omega' \\subset \\Omega$ be a subset of feasible vehicle routes. \n",
    "\n",
    "The Restricted Set Covering VRPTW model has the following objective\n",
    "\n",
    "$$Min \\sum_{k \\in \\Omega'}c_k z_k$$\n",
    "\n",
    "and the following constraint"
   ]
  },
  {
   "cell_type": "markdown",
   "id": "fdc01734",
   "metadata": {},
   "source": [
    "### 8. Restricted Set covering"
   ]
  },
  {
   "cell_type": "markdown",
   "id": "b41f2690",
   "metadata": {},
   "source": [
    "$$ \\sum_{r_k \\in \\Omega'} a_{jk} z_k \\geq 1 \\qquad \\forall j \\in \\{1,...,n\\} $$\n",
    "\n",
    "Ensure that all customers are visited."
   ]
  }
 ],
 "metadata": {
  "kernelspec": {
   "display_name": "Python 3 (ipykernel)",
   "language": "python",
   "name": "python3"
  },
  "language_info": {
   "codemirror_mode": {
    "name": "ipython",
    "version": 3
   },
   "file_extension": ".py",
   "mimetype": "text/x-python",
   "name": "python",
   "nbconvert_exporter": "python",
   "pygments_lexer": "ipython3",
   "version": "3.10.5"
  }
 },
 "nbformat": 4,
 "nbformat_minor": 5
}
