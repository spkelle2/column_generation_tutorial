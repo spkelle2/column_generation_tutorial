{
 "cells": [
  {
   "cell_type": "markdown",
   "id": "c977d87a",
   "metadata": {},
   "source": [
    "A VRPTW can be formulated as a linear integer programming model. The total cost of all vehicles' routes, collectively meeting all customers demands, should be minimized.\n",
    "\n",
    "The binary variable $x_{ijk}$ has a value of 1 if the arc from node $i$ to node $j$ is in the optimal route driven by vehicle $k$.\n",
    "\n",
    "$$x_{ijk} \\in \\{0,1\\} \\qquad \\forall k \\in \\{1,...,p\\},\\enspace i,j \\in \\{0,...,n\\}$$\n",
    "\n",
    "Further, there is no travel from a node to itself:\n",
    "\n",
    "$$x_{iik} = 0  \\qquad \\forall k \\in \\{1,...,p\\},\\enspace i \\in \\{0,...,n\\}$$\n",
    "\n",
    "The parameter $c_{ij}$ describes the cost to travel from node $i$ to node $j$. There are $n + 1$ nodes, with $n$ customers and 1 depot (indexed 0), and $p$ vehicles.\n",
    "\n",
    "$[a_i, b_i]$ is the time window of customer $i$. A vehicle must arrive at customer $i$ at least at $a_i$ and at most at $b_i$. $t_{ij}$ denotes the time it takes to get from customer $i$ to customer $j$, with service time at customer $i$ included. The variable $s_i$ denotes the time that a vehicle starts serving customer $i$.\n",
    "\n",
    "The objective function can be formulated as follows:\n",
    "\n",
    "$$Min \\sum_{k = 1}^{p}{\\sum_{i = 0}^{n}{\\sum_{j = 0}^{n}{c_{ij}x_{ijk}}}}$$\n",
    "\n",
    "The constraints can be formulated as follows:"
   ]
  },
  {
   "cell_type": "markdown",
   "id": "5c99ac95",
   "metadata": {},
   "source": [
    "### 1. Each vehicle leaves each node that it enters"
   ]
  },
  {
   "cell_type": "markdown",
   "id": "df9d61cd",
   "metadata": {},
   "source": [
    "Ensure that the number of times a vehicle enters a node is equal to the number of times it leaves that node:\n",
    "\n",
    "$$\\sum_{i = 0}^{n}{x_{ijk}} = \\sum_{i = 0}^{n}{x_{jik}} \\qquad \\forall j \\in \\{0,...,n\\}, \\enspace k \\in \\{1,...,p\\}$$"
   ]
  },
  {
   "cell_type": "markdown",
   "id": "6145ac3f",
   "metadata": {},
   "source": [
    "### 2. Ensure that every node is entered once"
   ]
  },
  {
   "cell_type": "markdown",
   "id": "9612680e",
   "metadata": {},
   "source": [
    "$$\\sum_{k = 1}^{p}{\\sum_{i = 0}^{n}{x_{ijk}}} = 1  \\qquad \\forall j \\in \\{1,...,n\\}$$\n",
    "\n",
    "Together with the first constraint, it ensures that the every node is entered only once and that it is left by the same vehicle."
   ]
  },
  {
   "cell_type": "markdown",
   "id": "431729c2",
   "metadata": {},
   "source": [
    "### 3. Every vehicle leaves the depot at most once"
   ]
  },
  {
   "cell_type": "markdown",
   "id": "cf3edc82",
   "metadata": {},
   "source": [
    "$$\\sum_{j = 1}^{n}{x_{0jk}} \\leq 1 \\qquad \\forall k \\in \\{1,...,p\\}$$\n",
    "\n",
    "Together with constraint 1, we know that every vehicle arrives again at the depot if it leaves."
   ]
  },
  {
   "cell_type": "markdown",
   "id": "f8682de9",
   "metadata": {},
   "source": [
    "### 4. Capacity constraint"
   ]
  },
  {
   "cell_type": "markdown",
   "id": "649d9ca5",
   "metadata": {},
   "source": [
    "Respect the capacity of the vehicles. Note that all vehicles have the same capacity.\n",
    "\n",
    "$$\\sum_{i = 0}^{n}{\\sum_{j = 1}^{n}{q_{j} x_{ijk}}} \\leq Q \\qquad \\forall k \\in \\{1,...,p\\}$$"
   ]
  },
  {
   "cell_type": "markdown",
   "id": "23be4e00",
   "metadata": {},
   "source": [
    "### 5. Travel constraint"
   ]
  },
  {
   "cell_type": "markdown",
   "id": "807d1e0d",
   "metadata": {},
   "source": [
    "$$s_i + t_{ij} - M * (1 - x_{ijk}) \\leq s_j \\qquad \\forall i \\in \\{0,...,n\\}, \\enspace j \\in \\{1,...,n\\}, \\enspace k \\in \\{1,...,p\\} \\qquad$$\n",
    "\n",
    "$$ M = max \\{b_i + t_{ij} - a_i\\} \\qquad i,j \\in \\{0,...,n\\} $$\n",
    "\n",
    "Constraint 5 keeps track of the duration of the routes. If the arc from customers $i$ to $j$ is in the route for vehicle $k$ (i.e. $x_{ijk} = 1$), the constraint can be rewritten to $s_i + t_{ij} \\leq s_j$. The start of the service time at customer $j$ must be at least $t_{ij}$ later than the start of the service time at customer $i$. If the arc from customers $i$ to $j$ is not in the route for vehicle $k$, constraint 5 is still valid. The constraint can then be rewritten to $s_i + t_{ij} \\leq s_j + M$. The value of $M$ is the maximum value of $b_i + t_{ij} - a_i$, which is most amount of time possible between $s_i$ and $s_j$. "
   ]
  },
  {
   "cell_type": "markdown",
   "id": "05ddc45c",
   "metadata": {},
   "source": [
    "### 6. Time window constraint"
   ]
  },
  {
   "cell_type": "markdown",
   "id": "85633145",
   "metadata": {},
   "source": [
    "$$\\qquad \\qquad \\qquad \\qquad a_i \\leq s_i \\leq b_i \\qquad \\forall i \\in \\{0,...,n\\} \\qquad \\qquad \\qquad \\qquad \\qquad $$\n",
    "\n",
    "Constraint 6 ensures that a vehicle starts serving a customer in the time window of that customer.\n",
    "\n",
    "Note: It is not possible to return to a previously served customer with the above formulation because the time a customer is served is always later than the previously served customers. Therefore, it isn’t necessary to formulate subtour elimination constraints."
   ]
  }
 ],
 "metadata": {
  "kernelspec": {
   "display_name": "Python 3 (ipykernel)",
   "language": "python",
   "name": "python3"
  },
  "language_info": {
   "codemirror_mode": {
    "name": "ipython",
    "version": 3
   },
   "file_extension": ".py",
   "mimetype": "text/x-python",
   "name": "python",
   "nbconvert_exporter": "python",
   "pygments_lexer": "ipython3",
   "version": "3.10.5"
  }
 },
 "nbformat": 4,
 "nbformat_minor": 5
}
